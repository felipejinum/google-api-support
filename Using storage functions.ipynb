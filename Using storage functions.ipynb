{
 "cells": [
  {
   "cell_type": "code",
   "execution_count": null,
   "id": "2456d242",
   "metadata": {},
   "outputs": [],
   "source": [
    "import GoogleApiSupport.storage as storage"
   ]
  },
  {
   "cell_type": "markdown",
   "id": "acd60ddc",
   "metadata": {},
   "source": [
    "# To use this method, the service credentials path must be set as a environment variable"
   ]
  },
  {
   "cell_type": "markdown",
   "id": "874b0b30",
   "metadata": {},
   "source": [
    "You can check the document /docs/setup_credentials for more info"
   ]
  },
  {
   "cell_type": "code",
   "execution_count": null,
   "id": "92fdbf7a",
   "metadata": {},
   "outputs": [],
   "source": [
    "storage.upload_from_filename_to_google_storage(r'C:\\my\\path\\file.JPG', 'my-project-test-bucket', 'my_image.jpg') "
   ]
  },
  {
   "cell_type": "code",
   "execution_count": null,
   "id": "4ef025ec",
   "metadata": {},
   "outputs": [],
   "source": [
    "storage.get_signed_URL('my-project-test-bucket', 'my_image.jpg')"
   ]
  },
  {
   "cell_type": "code",
   "execution_count": null,
   "id": "fb71aca7",
   "metadata": {},
   "outputs": [],
   "source": []
  },
  {
   "cell_type": "code",
   "execution_count": null,
   "id": "818917d3",
   "metadata": {},
   "outputs": [],
   "source": []
  }
 ],
 "metadata": {
  "kernelspec": {
   "display_name": "Python 3 (ipykernel)",
   "language": "python",
   "name": "python3"
  },
  "language_info": {
   "codemirror_mode": {
    "name": "ipython",
    "version": 3
   },
   "file_extension": ".py",
   "mimetype": "text/x-python",
   "name": "python",
   "nbconvert_exporter": "python",
   "pygments_lexer": "ipython3",
   "version": "3.10.0"
  }
 },
 "nbformat": 4,
 "nbformat_minor": 5
}
