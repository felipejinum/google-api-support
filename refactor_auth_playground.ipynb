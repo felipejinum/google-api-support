{
 "cells": [
  {
   "cell_type": "code",
   "execution_count": 13,
   "id": "64dacb44",
   "metadata": {},
   "outputs": [],
   "source": [
    "import os\n",
    "import logging\n",
    "from oauth2client.client import _raise_exception_for_reading_json\n",
    "\n",
    "from google.oauth2 import service_account\n",
    "import googleapiclient.discovery\n",
    "\n",
    "from httplib2 import Http\n",
    "\n",
    "from GoogleApiSupport import apis\n",
    "import GoogleApiSupport.sheets as sheets"
   ]
  },
  {
   "cell_type": "code",
   "execution_count": 10,
   "id": "35c59566",
   "metadata": {},
   "outputs": [
    {
     "ename": "ModuleNotFoundError",
     "evalue": "No module named 'GoogleApiSupport.sheeets'",
     "output_type": "error",
     "traceback": [
      "\u001b[1;31m---------------------------------------------------------------------------\u001b[0m",
      "\u001b[1;31mModuleNotFoundError\u001b[0m                       Traceback (most recent call last)",
      "\u001b[1;32m~\\AppData\\Local\\Temp/ipykernel_17840/925749954.py\u001b[0m in \u001b[0;36m<module>\u001b[1;34m\u001b[0m\n\u001b[0;32m      9\u001b[0m \u001b[1;33m\u001b[0m\u001b[0m\n\u001b[0;32m     10\u001b[0m \u001b[1;32mfrom\u001b[0m \u001b[0mGoogleApiSupport\u001b[0m \u001b[1;32mimport\u001b[0m \u001b[0mapis\u001b[0m\u001b[1;33m\u001b[0m\u001b[1;33m\u001b[0m\u001b[0m\n\u001b[1;32m---> 11\u001b[1;33m \u001b[1;32mfrom\u001b[0m \u001b[0mGoogleApiSupport\u001b[0m\u001b[1;33m.\u001b[0m\u001b[0msheeets\u001b[0m \u001b[1;32mimport\u001b[0m \u001b[0msheets\u001b[0m\u001b[1;33m\u001b[0m\u001b[1;33m\u001b[0m\u001b[0m\n\u001b[0m\u001b[0;32m     12\u001b[0m \u001b[1;33m\u001b[0m\u001b[0m\n\u001b[0;32m     13\u001b[0m \u001b[1;33m\u001b[0m\u001b[0m\n",
      "\u001b[1;31mModuleNotFoundError\u001b[0m: No module named 'GoogleApiSupport.sheeets'"
     ]
    }
   ],
   "source": [
    "def get_service(api_name, service_credentials_path=None):\n",
    "    service_credentials_path = get_service_credentials_path(service_credentials_path)\n",
    "\n",
    "    service = None\n",
    "\n",
    "    credentials = service_account.Credentials.from_service_account_file(\n",
    "        service_credentials_path,\n",
    "        scopes=apis.get_api_config(api_name)['scope']\n",
    "    )\n",
    "\n",
    "    service = googleapiclient.discovery.build(apis.get_api_config(api_name)['build'],\n",
    "        apis.get_api_config(api_name)['version'],\n",
    "        credentials=credentials\n",
    "    )\n",
    "\n",
    "    if not service:\n",
    "        logging.error(' UNABLE TO RETRIEVE CREDENTIALS | Expected credential paths: ' + ', '.join(\n",
    "            service_credentials_path) + ' | More info in project Documentation folder setup_credentials.md file')\n",
    "    return service\n",
    "\n",
    "\n",
    "def get_service_credentials_path(service_credentials_path=None):\n",
    "    if service_credentials_path:\n",
    "        service_credentials_path = service_credentials_path\n",
    "        logging.info('Trying to use credentials from ' + 'Method 0: Path from function argument | ' + service_credentials_path)\n",
    "    elif os.environ.get('GOOGLE_APPLICATION_CREDENTIALS'):\n",
    "        service_credentials_path = os.environ['GOOGLE_APPLICATION_CREDENTIALS']\n",
    "        logging.info('Trying to use credentials from ' + 'Method 1: Environment variable GOOGLE_APPLICATION_CREDENTIALS | ' + service_credentials_path)\n",
    "    elif os.environ.get('SERVICE_CREDENTIALS_PATH'): ## TO DO: DELETE - DEPRECATED\n",
    "        service_credentials_path = os.environ['SERVICE_CREDENTIALS_PATH']\n",
    "        logging.warning('Trying to use credentials from ' +  'Method 2 (deprecated): Environment variable SERVICE_CREDENTIALS_PATH | ' + service_credentials_path)\n",
    "    else:\n",
    "        service_credentials_path = os.path.join(os.path.expanduser('~'), '.credentials', 'service_credentials.json')\n",
    "        logging.info('Tying to use credentials from ' + 'Method 3: Default path for credentials ~/.credentials/service_credentials.json | ' + service_credentials_path + ' | Nor path passed neither environment variables, take a look into `docs/setup_credentials.md` file')      \n",
    "      \n",
    "    if (os.path.isfile(service_credentials_path)):\n",
    "        logging.info('Found file credentials in' + service_credentials_path)\n",
    "        return service_credentials_path\n",
    "    else:\n",
    "        raise Exception('UNABLE TO FIND CREDENTIALS FILE | Environment variable not defined or file from provided path does not exist | More info in project docs folder setup_credentials.md file')\n",
    "\n",
    "def sheet_to_pandas(spreadsheetId, sheetName='', sheetRange='', index=''):\n",
    "    '''\n",
    "    PARAMETERS:\n",
    "        service - Api service\n",
    "        spreadsheetId - Id of the desired document\n",
    "        sheetName - Name of the desired page 'Hoja1' (optional) (by default: first page)\n",
    "        sheetRange - Range of the desired info 'A1:C6' (optional) (by default: WHOLE PAGE)\n",
    "        index - column you want to be the index of the resulting dataframe (optional) (by default: none of the columns is set as index)\n",
    "    '''\n",
    "    service = get_service(\"sheets\")\n",
    "    if (sheetRange != ''):\n",
    "        sheetRange = '!'+sheetRange\n",
    "\n",
    "    newresult = service.spreadsheets().values().get(\n",
    "        spreadsheetId=spreadsheetId,\n",
    "        valueRenderOption='FORMATTED_VALUE',\n",
    "        range=sheetName+sheetRange\n",
    "    ).execute()\n",
    "\n",
    "    headers = newresult['values'].pop(0)\n",
    "\n",
    "    if (index == ''):\n",
    "        return pd.DataFrame(newresult['values'], columns=headers)\n",
    "    else:\n",
    "        return pd.DataFrame(newresult['values'], columns=headers).set_index(index, drop=False)"
   ]
  },
  {
   "cell_type": "code",
   "execution_count": 3,
   "id": "86d52287",
   "metadata": {},
   "outputs": [],
   "source": [
    "\n"
   ]
  },
  {
   "cell_type": "code",
   "execution_count": 15,
   "id": "5d6082e5",
   "metadata": {},
   "outputs": [],
   "source": [
    "a = sheets.sheet_to_pandas('1iViBL9BDdd6nr0pJSs', 'hoja1')"
   ]
  },
  {
   "cell_type": "code",
   "execution_count": 16,
   "id": "1574a748",
   "metadata": {},
   "outputs": [
    {
     "data": {
      "text/html": [
       "<div>\n",
       "<style scoped>\n",
       "    .dataframe tbody tr th:only-of-type {\n",
       "        vertical-align: middle;\n",
       "    }\n",
       "\n",
       "    .dataframe tbody tr th {\n",
       "        vertical-align: top;\n",
       "    }\n",
       "\n",
       "    .dataframe thead th {\n",
       "        text-align: right;\n",
       "    }\n",
       "</style>\n",
       "<table border=\"1\" class=\"dataframe\">\n",
       "  <thead>\n",
       "    <tr style=\"text-align: right;\">\n",
       "      <th></th>\n",
       "      <th>url</th>\n",
       "      <th>hint</th>\n",
       "    </tr>\n",
       "  </thead>\n",
       "  <tbody>\n",
       "    <tr>\n",
       "      <th>0</th>\n",
       "      <td>https://topodesigns.com/</td>\n",
       "      <td>None</td>\n",
       "    </tr>\n",
       "    <tr>\n",
       "      <th>1</th>\n",
       "      <td>https://www.peakdesign.com/products/packing-cube</td>\n",
       "      <td>packingcube</td>\n",
       "    </tr>\n",
       "    <tr>\n",
       "      <th>2</th>\n",
       "      <td>https://www.patagonia.com/product/lightweight-...</td>\n",
       "      <td>socks, merino</td>\n",
       "    </tr>\n",
       "    <tr>\n",
       "      <th>3</th>\n",
       "      <td>https://www.patagonia.com/product/stand-up-bel...</td>\n",
       "      <td>sling</td>\n",
       "    </tr>\n",
       "    <tr>\n",
       "      <th>4</th>\n",
       "      <td>https://packhacker.com/packing-list/</td>\n",
       "      <td>packs</td>\n",
       "    </tr>\n",
       "    <tr>\n",
       "      <th>5</th>\n",
       "      <td>https://matadorup.com/</td>\n",
       "      <td>None</td>\n",
       "    </tr>\n",
       "    <tr>\n",
       "      <th>6</th>\n",
       "      <td>https://huckberry.com/store/the-james-brand/ca...</td>\n",
       "      <td>pen</td>\n",
       "    </tr>\n",
       "    <tr>\n",
       "      <th>7</th>\n",
       "      <td>https://www.aersf.com/travel-kit-black/</td>\n",
       "      <td>travelkit</td>\n",
       "    </tr>\n",
       "    <tr>\n",
       "      <th>8</th>\n",
       "      <td>https://shop.outlier.nyc/shop/retail/</td>\n",
       "      <td>clothes</td>\n",
       "    </tr>\n",
       "    <tr>\n",
       "      <th>9</th>\n",
       "      <td>https://www.heimplanet.com/shop/Transit-Line-S...</td>\n",
       "      <td>sling</td>\n",
       "    </tr>\n",
       "  </tbody>\n",
       "</table>\n",
       "</div>"
      ],
      "text/plain": [
       "                                                 url           hint\n",
       "0                           https://topodesigns.com/           None\n",
       "1   https://www.peakdesign.com/products/packing-cube    packingcube\n",
       "2  https://www.patagonia.com/product/lightweight-...  socks, merino\n",
       "3  https://www.patagonia.com/product/stand-up-bel...          sling\n",
       "4               https://packhacker.com/packing-list/          packs\n",
       "5                             https://matadorup.com/           None\n",
       "6  https://huckberry.com/store/the-james-brand/ca...            pen\n",
       "7            https://www.aersf.com/travel-kit-black/      travelkit\n",
       "8              https://shop.outlier.nyc/shop/retail/        clothes\n",
       "9  https://www.heimplanet.com/shop/Transit-Line-S...          sling"
      ]
     },
     "execution_count": 16,
     "metadata": {},
     "output_type": "execute_result"
    }
   ],
   "source": [
    "a"
   ]
  },
  {
   "cell_type": "code",
   "execution_count": 4,
   "id": "379b4786",
   "metadata": {},
   "outputs": [],
   "source": [
    "service = get_service(\"sheets\")\n",
    "request = service.spreadsheets().values().get(\n",
    "        spreadsheetId='1iViBL9BD6xEtzudhzh9x-oGEQN1UfI5e1dd6nr0pJSs',\n",
    "        valueRenderOption='FORMATTED_VALUE',\n",
    "        range='hoja1'\n",
    "    )"
   ]
  },
  {
   "cell_type": "code",
   "execution_count": 8,
   "id": "9593c893",
   "metadata": {},
   "outputs": [
    {
     "data": {
      "text/plain": [
       "'https://www.googleapis.com/auth/spreadsheets'"
      ]
     },
     "execution_count": 8,
     "metadata": {},
     "output_type": "execute_result"
    }
   ],
   "source": [
    "apis.get_api_config('sheets')['scope']"
   ]
  },
  {
   "cell_type": "code",
   "execution_count": null,
   "id": "c90b81a1",
   "metadata": {},
   "outputs": [],
   "source": [
    "dir(service.sp)\n"
   ]
  },
  {
   "cell_type": "code",
   "execution_count": null,
   "id": "1db348ea",
   "metadata": {},
   "outputs": [],
   "source": []
  },
  {
   "cell_type": "code",
   "execution_count": null,
   "id": "0d18859a",
   "metadata": {},
   "outputs": [],
   "source": [
    "from oauth2client.service_account import ServiceAccountCredentials\n",
    "from GoogleApiSupport import apis\n",
    "\n",
    "\n",
    "service_credentials_path = auth.get_service_credentials_path(None)\n",
    "\n",
    "credentials = ServiceAccountCredentials.from_json_keyfile_name(\n",
    "        service_credentials_path,\n",
    "        scopes=apis.get_api_config('sheets')['scope']\n",
    "    )"
   ]
  },
  {
   "cell_type": "code",
   "execution_count": null,
   "id": "57a63a53",
   "metadata": {},
   "outputs": [],
   "source": [
    "apis.api_configs['sheets']"
   ]
  },
  {
   "cell_type": "code",
   "execution_count": null,
   "id": "11b9ee0c",
   "metadata": {},
   "outputs": [],
   "source": []
  },
  {
   "cell_type": "code",
   "execution_count": null,
   "id": "80e79452",
   "metadata": {},
   "outputs": [],
   "source": [
    "!pip install --upgrade oauth2client"
   ]
  },
  {
   "cell_type": "code",
   "execution_count": null,
   "id": "60287b0f",
   "metadata": {},
   "outputs": [],
   "source": []
  }
 ],
 "metadata": {
  "kernelspec": {
   "display_name": "Python 3 (ipykernel)",
   "language": "python",
   "name": "python3"
  },
  "language_info": {
   "codemirror_mode": {
    "name": "ipython",
    "version": 3
   },
   "file_extension": ".py",
   "mimetype": "text/x-python",
   "name": "python",
   "nbconvert_exporter": "python",
   "pygments_lexer": "ipython3",
   "version": "3.10.0"
  }
 },
 "nbformat": 4,
 "nbformat_minor": 5
}
