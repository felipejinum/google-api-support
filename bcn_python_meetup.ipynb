{
 "cells": [
  {
   "cell_type": "markdown",
   "metadata": {},
   "source": [
    "https://tinyurl.com/yyuw6jf2"
   ]
  },
  {
   "cell_type": "code",
   "execution_count": 15,
   "metadata": {},
   "outputs": [],
   "source": [
    "from oauth2client.service_account import ServiceAccountCredentials\n",
    "from apiclient.discovery import build\n",
    "from httplib2 import Http\n",
    "\n",
    "import google_slides_api_support as gslides"
   ]
  },
  {
   "cell_type": "code",
   "execution_count": 16,
   "metadata": {},
   "outputs": [],
   "source": [
    "CREDENTIALS_PATH = '.credentials\\My Project-8b3d0fee1eec.json'"
   ]
  },
  {
   "cell_type": "markdown",
   "metadata": {},
   "source": [
    "Service account identifier: my-project-1470411376725@appspot.gserviceaccount.com"
   ]
  },
  {
   "cell_type": "code",
   "execution_count": 21,
   "metadata": {},
   "outputs": [],
   "source": [
    "API_REFERENCES = {\n",
    "    'slides': {\n",
    "        'scope':'https://www.googleapis.com/auth/presentations',\n",
    "        'build':'slides',\n",
    "        'version': 'v1'},\n",
    "    'drive': {\n",
    "        'scope':'https://www.googleapis.com/auth/drive',\n",
    "        'build':'drive',\n",
    "        'version': 'v3'},\n",
    "    'sheets':{\n",
    "        'scope':'https://www.googleapis.com/auth/spreadsheets',\n",
    "        'build':'sheets',\n",
    "        'version': 'v4'}    \n",
    "}"
   ]
  },
  {
   "cell_type": "code",
   "execution_count": 22,
   "metadata": {},
   "outputs": [],
   "source": [
    "def get_service(credentials_path, credentials_scope, service_build, service_version):\n",
    "    credentials = ServiceAccountCredentials.from_json_keyfile_name(\n",
    "        credentials_path,\n",
    "        scopes= credentials_scope\n",
    "    )\n",
    "    service = build(\n",
    "        service_build,\n",
    "        service_version,\n",
    "        http=credentials.authorize(Http()),\n",
    "        cache_discovery=False\n",
    "    )\n",
    "    return service"
   ]
  },
  {
   "cell_type": "code",
   "execution_count": 23,
   "metadata": {},
   "outputs": [],
   "source": [
    "drive_service = get_service(\n",
    "    CREDENTIALS_PATH,\n",
    "    API_REFERENCES['slides']['scope'],\n",
    "    API_REFERENCES['slides']['build'],\n",
    "    API_REFERENCES['slides']['version']\n",
    ")"
   ]
  },
  {
   "cell_type": "code",
   "execution_count": 30,
   "metadata": {},
   "outputs": [
    {
     "data": {
      "text/plain": [
       "{'objectId': 'i0',\n",
       " 'size': {'width': {'magnitude': 3000000, 'unit': 'EMU'},\n",
       "  'height': {'magnitude': 3000000, 'unit': 'EMU'}},\n",
       " 'transform': {'scaleX': 2.8402,\n",
       "  'scaleY': 0.6842,\n",
       "  'translateX': 311708.35000000003,\n",
       "  'translateY': 744575,\n",
       "  'unit': 'EMU'},\n",
       " 'shape': {'shapeType': 'TEXT_BOX',\n",
       "  'text': {'textElements': [{'endIndex': 39,\n",
       "     'paragraphMarker': {'style': {'direction': 'LEFT_TO_RIGHT'}}},\n",
       "    {'endIndex': 39,\n",
       "     'textRun': {'content': 'Automatize reports using Google Slides\\n',\n",
       "      'style': {}}}]},\n",
       "  'shapeProperties': {'shapeBackgroundFill': {'propertyState': 'INHERIT'},\n",
       "   'outline': {'propertyState': 'INHERIT'},\n",
       "   'shadow': {'propertyState': 'INHERIT'}},\n",
       "  'placeholder': {'type': 'CENTERED_TITLE', 'parentObjectId': 'p2_i0'}}}"
      ]
     },
     "execution_count": 30,
     "metadata": {},
     "output_type": "execute_result"
    }
   ],
   "source": [
    "#gslides.presentation_info(drive_service, '1p0ouOWDZxX7QemDeNk976KiDp6ooWYEc9DhMcuOpY7U')\n",
    "#gslides.presentation_info(drive_service, '1p0ouOWDZxX7QemDeNk976KiDp6ooWYEc9DhMcuOpY7U')['slides']\n",
    "#gslides.presentation_info(drive_service, '1p0ouOWDZxX7QemDeNk976KiDp6ooWYEc9DhMcuOpY7U')['slides'][0]\n",
    "#gslides.presentation_info(drive_service, '1p0ouOWDZxX7QemDeNk976KiDp6ooWYEc9DhMcuOpY7U')['slides'][0]['pageElements'][0]"
   ]
  },
  {
   "cell_type": "code",
   "execution_count": null,
   "metadata": {},
   "outputs": [],
   "source": []
  }
 ],
 "metadata": {
  "kernelspec": {
   "display_name": "Python 3",
   "language": "python",
   "name": "python3"
  },
  "language_info": {
   "codemirror_mode": {
    "name": "ipython",
    "version": 3
   },
   "file_extension": ".py",
   "mimetype": "text/x-python",
   "name": "python",
   "nbconvert_exporter": "python",
   "pygments_lexer": "ipython3",
   "version": "3.7.0"
  }
 },
 "nbformat": 4,
 "nbformat_minor": 2
}
